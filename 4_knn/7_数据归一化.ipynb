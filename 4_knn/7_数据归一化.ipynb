{
 "cells": [
  {
   "cell_type": "code",
   "execution_count": 4,
   "metadata": {},
   "outputs": [],
   "source": [
    "import numpy as np\n",
    "import matplotlib.pyplot as plt"
   ]
  },
  {
   "cell_type": "markdown",
   "metadata": {},
   "source": [
    "### 最值归一化 Normalization"
   ]
  },
  {
   "cell_type": "code",
   "execution_count": 5,
   "metadata": {},
   "outputs": [
    {
     "data": {
      "text/plain": [
       "array([68, 26, 64, 75,  9, 64, 67, 70, 93, 14,  0, 49, 67, 61, 48, 64, 95,\n",
       "       33, 25, 50, 85, 74, 19, 23, 93, 87, 66, 37, 26, 44, 74, 52, 45, 53,\n",
       "       80, 77, 73, 23, 88, 68, 96, 11, 78, 59, 41, 54, 33, 79, 43, 58, 28,\n",
       "       51, 67, 35,  8, 65, 12, 20, 27, 13, 71, 85, 88, 80, 67, 86, 92, 84,\n",
       "       83, 77,  6, 64, 44, 97, 22, 31, 35, 95,  3, 54, 17, 99, 43, 11, 92,\n",
       "       62, 54, 25, 35, 42, 10, 92, 51, 44, 32, 45, 72, 25, 30, 91])"
      ]
     },
     "execution_count": 5,
     "metadata": {},
     "output_type": "execute_result"
    }
   ],
   "source": [
    "x = np.random.randint(0,100,size = 100)\n",
    "x"
   ]
  },
  {
   "cell_type": "code",
   "execution_count": 6,
   "metadata": {},
   "outputs": [
    {
     "data": {
      "text/plain": [
       "0"
      ]
     },
     "execution_count": 6,
     "metadata": {},
     "output_type": "execute_result"
    }
   ],
   "source": [
    "np.min(x)  "
   ]
  },
  {
   "cell_type": "code",
   "execution_count": 7,
   "metadata": {},
   "outputs": [
    {
     "data": {
      "text/plain": [
       "array([0.68686869, 0.26262626, 0.64646465, 0.75757576, 0.09090909,\n",
       "       0.64646465, 0.67676768, 0.70707071, 0.93939394, 0.14141414,\n",
       "       0.        , 0.49494949, 0.67676768, 0.61616162, 0.48484848,\n",
       "       0.64646465, 0.95959596, 0.33333333, 0.25252525, 0.50505051,\n",
       "       0.85858586, 0.74747475, 0.19191919, 0.23232323, 0.93939394,\n",
       "       0.87878788, 0.66666667, 0.37373737, 0.26262626, 0.44444444,\n",
       "       0.74747475, 0.52525253, 0.45454545, 0.53535354, 0.80808081,\n",
       "       0.77777778, 0.73737374, 0.23232323, 0.88888889, 0.68686869,\n",
       "       0.96969697, 0.11111111, 0.78787879, 0.5959596 , 0.41414141,\n",
       "       0.54545455, 0.33333333, 0.7979798 , 0.43434343, 0.58585859,\n",
       "       0.28282828, 0.51515152, 0.67676768, 0.35353535, 0.08080808,\n",
       "       0.65656566, 0.12121212, 0.2020202 , 0.27272727, 0.13131313,\n",
       "       0.71717172, 0.85858586, 0.88888889, 0.80808081, 0.67676768,\n",
       "       0.86868687, 0.92929293, 0.84848485, 0.83838384, 0.77777778,\n",
       "       0.06060606, 0.64646465, 0.44444444, 0.97979798, 0.22222222,\n",
       "       0.31313131, 0.35353535, 0.95959596, 0.03030303, 0.54545455,\n",
       "       0.17171717, 1.        , 0.43434343, 0.11111111, 0.92929293,\n",
       "       0.62626263, 0.54545455, 0.25252525, 0.35353535, 0.42424242,\n",
       "       0.1010101 , 0.92929293, 0.51515152, 0.44444444, 0.32323232,\n",
       "       0.45454545, 0.72727273, 0.25252525, 0.3030303 , 0.91919192])"
      ]
     },
     "execution_count": 7,
     "metadata": {},
     "output_type": "execute_result"
    }
   ],
   "source": [
    "(x-np.min(x))/(np.max(x)-np.min(x))"
   ]
  },
  {
   "cell_type": "code",
   "execution_count": 8,
   "metadata": {},
   "outputs": [
    {
     "data": {
      "text/plain": [
       "array([[41, 69],\n",
       "       [37, 35],\n",
       "       [76, 13],\n",
       "       [61, 44],\n",
       "       [31, 15],\n",
       "       [27, 35],\n",
       "       [94, 64],\n",
       "       [60, 31],\n",
       "       [76, 42],\n",
       "       [51, 39]])"
      ]
     },
     "execution_count": 8,
     "metadata": {},
     "output_type": "execute_result"
    }
   ],
   "source": [
    "x = np.random.randint(0,100,(50,2))\n",
    "x[:10,:]  # 由于array中类型必须一致，所以强转为float"
   ]
  },
  {
   "cell_type": "code",
   "execution_count": 9,
   "metadata": {},
   "outputs": [
    {
     "data": {
      "text/plain": [
       "array([[41., 69.],\n",
       "       [37., 35.],\n",
       "       [76., 13.],\n",
       "       [61., 44.],\n",
       "       [31., 15.],\n",
       "       [27., 35.],\n",
       "       [94., 64.],\n",
       "       [60., 31.],\n",
       "       [76., 42.],\n",
       "       [51., 39.]])"
      ]
     },
     "execution_count": 9,
     "metadata": {},
     "output_type": "execute_result"
    }
   ],
   "source": [
    "x = np.array(x,dtype=float) #强转为float\n",
    "x[:10,:]"
   ]
  },
  {
   "cell_type": "code",
   "execution_count": 10,
   "metadata": {},
   "outputs": [
    {
     "data": {
      "text/plain": [
       "dtype('float64')"
      ]
     },
     "execution_count": 10,
     "metadata": {},
     "output_type": "execute_result"
    }
   ],
   "source": [
    "x.dtype"
   ]
  },
  {
   "cell_type": "code",
   "execution_count": 11,
   "metadata": {},
   "outputs": [],
   "source": [
    "x[:,0] = (x[:,0]-np.min(x[:,0]))/(np.max(x[:,0])-np.min(x[:,0]))"
   ]
  },
  {
   "cell_type": "code",
   "execution_count": 12,
   "metadata": {},
   "outputs": [],
   "source": [
    "x[:,1] = (x[:,1]-np.min(x[:,1]))/(np.max(x[:,1])-np.min(x[:,1]))"
   ]
  },
  {
   "cell_type": "code",
   "execution_count": 13,
   "metadata": {},
   "outputs": [
    {
     "data": {
      "text/plain": [
       "array([[0.42708333, 0.72631579],\n",
       "       [0.38541667, 0.36842105],\n",
       "       [0.79166667, 0.13684211],\n",
       "       [0.63541667, 0.46315789],\n",
       "       [0.32291667, 0.15789474],\n",
       "       [0.28125   , 0.36842105],\n",
       "       [0.97916667, 0.67368421],\n",
       "       [0.625     , 0.32631579],\n",
       "       [0.79166667, 0.44210526],\n",
       "       [0.53125   , 0.41052632]])"
      ]
     },
     "execution_count": 13,
     "metadata": {},
     "output_type": "execute_result"
    }
   ],
   "source": [
    "x[:10,:]"
   ]
  },
  {
   "cell_type": "code",
   "execution_count": 14,
   "metadata": {},
   "outputs": [
    {
     "data": {
      "text/plain": [
       "<matplotlib.collections.PathCollection at 0x175324b46d8>"
      ]
     },
     "execution_count": 14,
     "metadata": {},
     "output_type": "execute_result"
    },
    {
     "data": {
      "image/png": "[encoded data removed]",
      "text/plain": [
       "<Figure size 432x288 with 1 Axes>"
      ]
     },
     "metadata": {},
     "output_type": "display_data"
    }
   ],
   "source": [
    "plt.scatter(x[:,0],x[:,1],alpha = 0.5)"
   ]
  },
  {
   "cell_type": "code",
   "execution_count": 15,
   "metadata": {},
   "outputs": [
    {
     "data": {
      "text/plain": [
       "0.5252083333333333"
      ]
     },
     "execution_count": 15,
     "metadata": {},
     "output_type": "execute_result"
    }
   ],
   "source": [
    "np.mean(x[:,0])"
   ]
  },
  {
   "cell_type": "code",
   "execution_count": 16,
   "metadata": {},
   "outputs": [
    {
     "data": {
      "text/plain": [
       "0.272190580129727"
      ]
     },
     "execution_count": 16,
     "metadata": {},
     "output_type": "execute_result"
    }
   ],
   "source": [
    "np.std(x[:,1])"
   ]
  },
  {
   "cell_type": "code",
   "execution_count": 17,
   "metadata": {},
   "outputs": [
    {
     "data": {
      "text/plain": [
       "0.5023157894736842"
      ]
     },
     "execution_count": 17,
     "metadata": {},
     "output_type": "execute_result"
    }
   ],
   "source": [
    "np.mean(x[:,1])"
   ]
  },
  {
   "cell_type": "code",
   "execution_count": 19,
   "metadata": {},
   "outputs": [
    {
     "data": {
      "text/plain": [
       "0.272190580129727"
      ]
     },
     "execution_count": 19,
     "metadata": {},
     "output_type": "execute_result"
    }
   ],
   "source": [
    "np.std(x[:,1])  # 标准差  方差var  "
   ]
  },
  {
   "cell_type": "markdown",
   "metadata": {},
   "source": [
    "### 均值方差归一化 Standardization"
   ]
  },
  {
   "cell_type": "code",
   "execution_count": 20,
   "metadata": {},
   "outputs": [],
   "source": [
    "x2 = np.random.randint(0,100,(50,2))\n",
    "x2 = np.array(x2,dtype=float)"
   ]
  },
  {
   "cell_type": "code",
   "execution_count": 21,
   "metadata": {},
   "outputs": [],
   "source": [
    "x2[:,0] = (x2[:,0]-np.mean(x2[:,0]))/np.std(x2[:,0])\n",
    "x2[:,1] = (x2[:,1]-np.mean(x2[:,1]))/np.std(x2[:,1])"
   ]
  },
  {
   "cell_type": "code",
   "execution_count": 22,
   "metadata": {},
   "outputs": [
    {
     "data": {
      "text/plain": [
       "<matplotlib.collections.PathCollection at 0x17532539518>"
      ]
     },
     "execution_count": 22,
     "metadata": {},
     "output_type": "execute_result"
    },
    {
     "data": {
      "image/png": "[encoded data removed]",
      "text/plain": [
       "<Figure size 432x288 with 1 Axes>"
      ]
     },
     "metadata": {},
     "output_type": "display_data"
    }
   ],
   "source": [
    "plt.scatter(x2[:,0],x2[:,1],alpha = 0.5)"
   ]
  },
  {
   "cell_type": "code",
   "execution_count": 23,
   "metadata": {},
   "outputs": [
    {
     "data": {
      "text/plain": [
       "2.4424906541753444e-17"
      ]
     },
     "execution_count": 23,
     "metadata": {},
     "output_type": "execute_result"
    }
   ],
   "source": [
    "np.mean(x2[:,0])"
   ]
  },
  {
   "cell_type": "code",
   "execution_count": 24,
   "metadata": {},
   "outputs": [
    {
     "data": {
      "text/plain": [
       "1.0"
      ]
     },
     "execution_count": 24,
     "metadata": {},
     "output_type": "execute_result"
    }
   ],
   "source": [
    "np.std(x2[:,0])"
   ]
  },
  {
   "cell_type": "code",
   "execution_count": null,
   "metadata": {},
   "outputs": [],
   "source": []
  }
 ],
 "metadata": {
  "kernelspec": {
   "display_name": "Python 3",
   "language": "python",
   "name": "python3"
  },
  "language_info": {
   "codemirror_mode": {
    "name": "ipython",
    "version": 3
   },
   "file_extension": ".py",
   "mimetype": "text/x-python",
   "name": "python",
   "nbconvert_exporter": "python",
   "pygments_lexer": "ipython3",
   "version": "3.6.5"
  }
 },
 "nbformat": 4,
 "nbformat_minor": 2
}
