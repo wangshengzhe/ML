{
 "cells": [
  {
   "cell_type": "markdown",
   "metadata": {},
   "source": [
    "### 超参数"
   ]
  },
  {
   "cell_type": "code",
   "execution_count": 1,
   "metadata": {},
   "outputs": [],
   "source": [
    "import numpy as np\n",
    "from sklearn import datasets"
   ]
  },
  {
   "cell_type": "code",
   "execution_count": 3,
   "metadata": {},
   "outputs": [
    {
     "name": "stdout",
     "output_type": "stream",
     "text": [
      "<class 'sklearn.utils.Bunch'>\n"
     ]
    }
   ],
   "source": [
    "digits = datasets.load_digits()  \n",
    "print(type(digits))\n",
    "X = digits.data  # 1797/5=359.4\n",
    "y = digits.target"
   ]
  },
  {
   "cell_type": "code",
   "execution_count": 4,
   "metadata": {},
   "outputs": [],
   "source": [
    "from sklearn.model_selection import train_test_split\n",
    "X_train,X_test,y_train,y_test = train_test_split(X,y,test_size = 0.2,random_state = 666)"
   ]
  },
  {
   "cell_type": "code",
   "execution_count": 5,
   "metadata": {},
   "outputs": [
    {
     "data": {
      "text/plain": [
       "0.9888888888888889"
      ]
     },
     "execution_count": 5,
     "metadata": {},
     "output_type": "execute_result"
    }
   ],
   "source": [
    "from sklearn.neighbors import KNeighborsClassifier\n",
    "knn_clf = KNeighborsClassifier(n_neighbors = 3)\n",
    "knn_clf.fit(X_train,y_train)  # 用训练数据拟合模型，\n",
    "knn_clf.score(X_test,y_test)  #   分类准确度"
   ]
  },
  {
   "cell_type": "markdown",
   "metadata": {},
   "source": [
    "### 寻找最好的K"
   ]
  },
  {
   "cell_type": "code",
   "execution_count": 22,
   "metadata": {},
   "outputs": [
    {
     "name": "stdout",
     "output_type": "stream",
     "text": [
      "1 : 0.9833333333333333\n",
      "2 : 0.9888888888888889\n",
      "3 : 0.9888888888888889\n",
      "4 : 0.9916666666666667\n",
      "5 : 0.9888888888888889\n",
      "6 : 0.9888888888888889\n",
      "7 : 0.9861111111111112\n",
      "8 : 0.9861111111111112\n",
      "9 : 0.9833333333333333\n",
      "best_score: 0.9916666666666667 best_k: 4\n"
     ]
    }
   ],
   "source": [
    "best_score = 0.0\n",
    "best_k = -1\n",
    "for k in range(1,10): # 0 不可以\n",
    "    knn_clf = KNeighborsClassifier(n_neighbors=k)\n",
    "    knn_clf.fit(X_train,y_train)\n",
    "    score = knn_clf.score(X_test,y_test)\n",
    "    print(k,\":\",score)\n",
    "    if score>best_score:\n",
    "        best_k = k\n",
    "        best_score = score\n",
    "print(\"best_score:\",best_score,\"best_k:\",best_k)"
   ]
  },
  {
   "cell_type": "markdown",
   "metadata": {},
   "source": [
    "#### 考虑距离？ 不考虑距离？"
   ]
  },
  {
   "cell_type": "code",
   "execution_count": 27,
   "metadata": {},
   "outputs": [
    {
     "name": "stdout",
     "output_type": "stream",
     "text": [
      "method: uniform\n",
      "1 : 0.9833333333333333\n",
      "2 : 0.9888888888888889\n",
      "3 : 0.9888888888888889\n",
      "4 : 0.9916666666666667\n",
      "5 : 0.9888888888888889\n",
      "6 : 0.9888888888888889\n",
      "7 : 0.9861111111111112\n",
      "8 : 0.9861111111111112\n",
      "9 : 0.9833333333333333\n",
      "method: distance\n",
      "1 : 0.9833333333333333\n",
      "2 : 0.9861111111111112\n",
      "3 : 0.9888888888888889\n",
      "4 : 0.9888888888888889\n",
      "5 : 0.9888888888888889\n",
      "6 : 0.9888888888888889\n",
      "7 : 0.9888888888888889\n",
      "8 : 0.9888888888888889\n",
      "9 : 0.9861111111111112\n",
      "best_method: uniform best_score: 0.9916666666666667 best_k: 4\n"
     ]
    }
   ],
   "source": [
    "best_method = \"\"\n",
    "best_score = 0.0\n",
    "best_k = -1\n",
    "for method in [\"uniform\",\"distance\"]:\n",
    "    print(\"method:\",method)\n",
    "    for k in range(1,10): # 0 不可以\n",
    "        knn_clf = KNeighborsClassifier(n_neighbors=k,weights = method)\n",
    "        knn_clf.fit(X_train,y_train)\n",
    "        score = knn_clf.score(X_test,y_test)\n",
    "        print(k,\":\",score)\n",
    "        if score>best_score:\n",
    "            best_k = k\n",
    "            best_score = score\n",
    "            best_method = method\n",
    "print(\"best_method:\",best_method,\"best_score:\",best_score,\"best_k:\",best_k)"
   ]
  },
  {
   "cell_type": "markdown",
   "metadata": {},
   "source": [
    "### 搜索明可夫斯基距离相应的p"
   ]
  },
  {
   "cell_type": "code",
   "execution_count": 31,
   "metadata": {},
   "outputs": [
    {
     "name": "stdout",
     "output_type": "stream",
     "text": [
      "1 : 0.9861111111111112 p的值是： 1\n",
      "1 : 0.9833333333333333 p的值是： 2\n",
      "1 : 0.9861111111111112 p的值是： 3\n",
      "1 : 0.9861111111111112 p的值是： 4\n",
      "1 : 0.9861111111111112 p的值是： 5\n",
      "2 : 0.9861111111111112 p的值是： 1\n",
      "2 : 0.9861111111111112 p的值是： 2\n",
      "2 : 0.9861111111111112 p的值是： 3\n",
      "2 : 0.9861111111111112 p的值是： 4\n",
      "2 : 0.9861111111111112 p的值是： 5\n",
      "3 : 0.9833333333333333 p的值是： 1\n",
      "3 : 0.9888888888888889 p的值是： 2\n",
      "3 : 0.9833333333333333 p的值是： 3\n",
      "3 : 0.9833333333333333 p的值是： 4\n",
      "3 : 0.9833333333333333 p的值是： 5\n",
      "4 : 0.9833333333333333 p的值是： 1\n",
      "4 : 0.9888888888888889 p的值是： 2\n",
      "4 : 0.9861111111111112 p的值是： 3\n",
      "4 : 0.9833333333333333 p的值是： 4\n",
      "4 : 0.9833333333333333 p的值是： 5\n",
      "5 : 0.9888888888888889 p的值是： 1\n",
      "5 : 0.9888888888888889 p的值是： 2\n",
      "5 : 0.9861111111111112 p的值是： 3\n",
      "5 : 0.9861111111111112 p的值是： 4\n",
      "5 : 0.9805555555555555 p的值是： 5\n",
      "6 : 0.9833333333333333 p的值是： 1\n",
      "6 : 0.9888888888888889 p的值是： 2\n",
      "6 : 0.9888888888888889 p的值是： 3\n",
      "6 : 0.9833333333333333 p的值是： 4\n",
      "6 : 0.9805555555555555 p的值是： 5\n",
      "7 : 0.9861111111111112 p的值是： 1\n",
      "7 : 0.9888888888888889 p的值是： 2\n",
      "7 : 0.9861111111111112 p的值是： 3\n",
      "7 : 0.9833333333333333 p的值是： 4\n",
      "7 : 0.9833333333333333 p的值是： 5\n",
      "8 : 0.9861111111111112 p的值是： 1\n",
      "8 : 0.9888888888888889 p的值是： 2\n",
      "8 : 0.9888888888888889 p的值是： 3\n",
      "8 : 0.9861111111111112 p的值是： 4\n",
      "8 : 0.9833333333333333 p的值是： 5\n",
      "9 : 0.9861111111111112 p的值是： 1\n",
      "9 : 0.9861111111111112 p的值是： 2\n",
      "9 : 0.9888888888888889 p的值是： 3\n",
      "9 : 0.9888888888888889 p的值是： 4\n",
      "9 : 0.9833333333333333 p的值是： 5\n",
      "10 : 0.9833333333333333 p的值是： 1\n",
      "10 : 0.9861111111111112 p的值是： 2\n",
      "10 : 0.9888888888888889 p的值是： 3\n",
      "10 : 0.9861111111111112 p的值是： 4\n",
      "10 : 0.9833333333333333 p的值是： 5\n",
      "best_p: 5 best_score: 0.9888888888888889 best_k: 3\n",
      "Wall time: 24.9 s\n"
     ]
    }
   ],
   "source": [
    "%%time\n",
    "best_p = -1\n",
    "best_score = 0.0\n",
    "best_k = -1\n",
    "\n",
    "for k in range(1,11): # 0 不可以\n",
    "    for p in range(1,6):\n",
    "        knn_clf = KNeighborsClassifier(n_neighbors=k,weights = \"distance\",p =p)\n",
    "        knn_clf.fit(X_train,y_train)\n",
    "        score = knn_clf.score(X_test,y_test)  # 分类准确度\n",
    "        print(k,\":\",score,\"p的值是：\",p)\n",
    "        if score>best_score:\n",
    "            best_k = k\n",
    "            best_score = score\n",
    "            best_p = p\n",
    "            \n",
    "print(\"best_p:\",p,\"best_score:\",best_score,\"best_k:\",best_k)"
   ]
  },
  {
   "cell_type": "code",
   "execution_count": null,
   "metadata": {},
   "outputs": [],
   "source": []
  },
  {
   "cell_type": "code",
   "execution_count": null,
   "metadata": {},
   "outputs": [],
   "source": []
  }
 ],
 "metadata": {
  "kernelspec": {
   "display_name": "Python 3",
   "language": "python",
   "name": "python3"
  },
  "language_info": {
   "codemirror_mode": {
    "name": "ipython",
    "version": 3
   },
   "file_extension": ".py",
   "mimetype": "text/x-python",
   "name": "python",
   "nbconvert_exporter": "python",
   "pygments_lexer": "ipython3",
   "version": "3.6.5"
  }
 },
 "nbformat": 4,
 "nbformat_minor": 2
}
