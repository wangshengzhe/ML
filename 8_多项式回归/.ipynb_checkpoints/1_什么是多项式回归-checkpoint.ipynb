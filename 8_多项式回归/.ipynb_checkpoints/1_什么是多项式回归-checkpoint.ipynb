{
 "cells": [
  {
   "cell_type": "markdown",
   "metadata": {},
   "source": [
    "### 多项式回归"
   ]
  },
  {
   "cell_type": "code",
   "execution_count": 1,
   "metadata": {},
   "outputs": [],
   "source": [
    "import numpy as np\n",
    "import matplotlib.pyplot as plt"
   ]
  },
  {
   "cell_type": "code",
   "execution_count": 5,
   "metadata": {},
   "outputs": [],
   "source": [
    "x = np.random.uniform(-3,3,size =100)  # 功能：从一个均匀分布[low,high)中随机采样，注意定义域是左闭右开，即包含low，不包含high.\n",
    "X = x.reshape(-1,1)  \n",
    "y = 0.5*x**2 +x+2+np.random.normal(0,1,size = 100)"
   ]
  },
  {
   "cell_type": "code",
   "execution_count": 6,
   "metadata": {},
   "outputs": [
    {
     "data": {
      "text/plain": [
       "<matplotlib.collections.PathCollection at 0x1c44d100ba8>"
      ]
     },
     "execution_count": 6,
     "metadata": {},
     "output_type": "execute_result"
    },
    {
     "data": {
      "image/png": "[encoded data removed]",
      "text/plain": [
       "<Figure size 432x288 with 1 Axes>"
      ]
     },
     "metadata": {},
     "output_type": "display_data"
    }
   ],
   "source": [
    "plt.scatter(X,y)"
   ]
  },
  {
   "cell_type": "code",
   "execution_count": 7,
   "metadata": {},
   "outputs": [],
   "source": [
    "from sklearn.linear_model import LinearRegression"
   ]
  },
  {
   "cell_type": "code",
   "execution_count": 8,
   "metadata": {},
   "outputs": [
    {
     "data": {
      "text/plain": [
       "LinearRegression(copy_X=True, fit_intercept=True, n_jobs=1, normalize=False)"
      ]
     },
     "execution_count": 8,
     "metadata": {},
     "output_type": "execute_result"
    }
   ],
   "source": [
    "lin_reg = LinearRegression()\n",
    "lin_reg.fit(X,y)"
   ]
  },
  {
   "cell_type": "code",
   "execution_count": 10,
   "metadata": {},
   "outputs": [
    {
     "ename": "ValueError",
     "evalue": "Expected 2D array, got 1D array instead:\narray=[ 1.54709416 -1.19327504 -2.82094609  1.72929148 -0.68773642  0.62541423\n -1.74910323 -1.25218649  0.71722638 -2.00174463  0.02208488  1.6447192\n -1.01602831 -2.89483485  1.77412165  2.66742631 -2.30395471 -2.95134464\n  0.73000092 -1.584547    0.14632918  2.75273629  0.15105575 -1.51011469\n -0.40241489  0.84189192 -0.58606349  0.44770052 -0.40664349 -0.6842092\n  0.31850809 -2.23862664 -2.51233708 -2.7935676  -2.2992828   1.94499926\n  1.98679436 -0.96064397 -0.44335733  1.46893555 -0.06858961 -0.04664944\n -0.63249162  1.32616701 -1.89693439  0.05355412  1.22977602 -1.48294856\n -0.21471119 -1.12980158  1.30702864 -1.55216758  0.30026651  1.24460909\n  1.25846915  1.71641123 -0.19229459  1.98511343  2.61304969  0.09151082\n  1.36000945  2.05140574 -0.72970144  1.83840618  1.68451939  2.54838514\n  2.48266979  1.68487725  0.5933551   1.51996745  0.5894309  -2.16773216\n -1.24021203  0.74557323  0.8973139  -0.69301067 -2.71589954 -0.86822158\n -0.86191337  0.30145045 -2.48641802  1.31014242 -2.48444607 -1.85914092\n  2.225073   -0.28624794 -1.50258871  2.15209673  2.20397894 -1.49877715\n -0.271866    2.7472239  -1.74356464 -2.29729951  2.76265723  2.4641526\n  0.17610963 -2.01016324  1.08240267  2.83485637].\nReshape your data either using array.reshape(-1, 1) if your data has a single feature or array.reshape(1, -1) if it contains a single sample.",
     "output_type": "error",
     "traceback": [
      "\u001b[1;31m---------------------------------------------------------------------------\u001b[0m",
      "\u001b[1;31mValueError\u001b[0m                                Traceback (most recent call last)",
      "\u001b[1;32m<ipython-input-10-bc8fb5dbb292>\u001b[0m in \u001b[0;36m<module>\u001b[1;34m()\u001b[0m\n\u001b[1;32m----> 1\u001b[1;33m \u001b[0my_predict\u001b[0m \u001b[1;33m=\u001b[0m \u001b[0mlin_reg\u001b[0m\u001b[1;33m.\u001b[0m\u001b[0mpredict\u001b[0m\u001b[1;33m(\u001b[0m\u001b[0mx\u001b[0m\u001b[1;33m)\u001b[0m  \u001b[1;31m#\u001b[0m\u001b[1;33m\u001b[0m\u001b[0m\n\u001b[0m",
      "\u001b[1;32mC:\\Anaconda3\\lib\\site-packages\\sklearn\\linear_model\\base.py\u001b[0m in \u001b[0;36mpredict\u001b[1;34m(self, X)\u001b[0m\n\u001b[0;32m    254\u001b[0m             \u001b[0mReturns\u001b[0m \u001b[0mpredicted\u001b[0m \u001b[0mvalues\u001b[0m\u001b[1;33m.\u001b[0m\u001b[1;33m\u001b[0m\u001b[0m\n\u001b[0;32m    255\u001b[0m         \"\"\"\n\u001b[1;32m--> 256\u001b[1;33m         \u001b[1;32mreturn\u001b[0m \u001b[0mself\u001b[0m\u001b[1;33m.\u001b[0m\u001b[0m_decision_function\u001b[0m\u001b[1;33m(\u001b[0m\u001b[0mX\u001b[0m\u001b[1;33m)\u001b[0m\u001b[1;33m\u001b[0m\u001b[0m\n\u001b[0m\u001b[0;32m    257\u001b[0m \u001b[1;33m\u001b[0m\u001b[0m\n\u001b[0;32m    258\u001b[0m     \u001b[0m_preprocess_data\u001b[0m \u001b[1;33m=\u001b[0m \u001b[0mstaticmethod\u001b[0m\u001b[1;33m(\u001b[0m\u001b[0m_preprocess_data\u001b[0m\u001b[1;33m)\u001b[0m\u001b[1;33m\u001b[0m\u001b[0m\n",
      "\u001b[1;32mC:\\Anaconda3\\lib\\site-packages\\sklearn\\linear_model\\base.py\u001b[0m in \u001b[0;36m_decision_function\u001b[1;34m(self, X)\u001b[0m\n\u001b[0;32m    237\u001b[0m         \u001b[0mcheck_is_fitted\u001b[0m\u001b[1;33m(\u001b[0m\u001b[0mself\u001b[0m\u001b[1;33m,\u001b[0m \u001b[1;34m\"coef_\"\u001b[0m\u001b[1;33m)\u001b[0m\u001b[1;33m\u001b[0m\u001b[0m\n\u001b[0;32m    238\u001b[0m \u001b[1;33m\u001b[0m\u001b[0m\n\u001b[1;32m--> 239\u001b[1;33m         \u001b[0mX\u001b[0m \u001b[1;33m=\u001b[0m \u001b[0mcheck_array\u001b[0m\u001b[1;33m(\u001b[0m\u001b[0mX\u001b[0m\u001b[1;33m,\u001b[0m \u001b[0maccept_sparse\u001b[0m\u001b[1;33m=\u001b[0m\u001b[1;33m[\u001b[0m\u001b[1;34m'csr'\u001b[0m\u001b[1;33m,\u001b[0m \u001b[1;34m'csc'\u001b[0m\u001b[1;33m,\u001b[0m \u001b[1;34m'coo'\u001b[0m\u001b[1;33m]\u001b[0m\u001b[1;33m)\u001b[0m\u001b[1;33m\u001b[0m\u001b[0m\n\u001b[0m\u001b[0;32m    240\u001b[0m         return safe_sparse_dot(X, self.coef_.T,\n\u001b[0;32m    241\u001b[0m                                dense_output=True) + self.intercept_\n",
      "\u001b[1;32mC:\\Anaconda3\\lib\\site-packages\\sklearn\\utils\\validation.py\u001b[0m in \u001b[0;36mcheck_array\u001b[1;34m(array, accept_sparse, dtype, order, copy, force_all_finite, ensure_2d, allow_nd, ensure_min_samples, ensure_min_features, warn_on_dtype, estimator)\u001b[0m\n\u001b[0;32m    439\u001b[0m                     \u001b[1;34m\"Reshape your data either using array.reshape(-1, 1) if \"\u001b[0m\u001b[1;33m\u001b[0m\u001b[0m\n\u001b[0;32m    440\u001b[0m                     \u001b[1;34m\"your data has a single feature or array.reshape(1, -1) \"\u001b[0m\u001b[1;33m\u001b[0m\u001b[0m\n\u001b[1;32m--> 441\u001b[1;33m                     \"if it contains a single sample.\".format(array))\n\u001b[0m\u001b[0;32m    442\u001b[0m             \u001b[0marray\u001b[0m \u001b[1;33m=\u001b[0m \u001b[0mnp\u001b[0m\u001b[1;33m.\u001b[0m\u001b[0matleast_2d\u001b[0m\u001b[1;33m(\u001b[0m\u001b[0marray\u001b[0m\u001b[1;33m)\u001b[0m\u001b[1;33m\u001b[0m\u001b[0m\n\u001b[0;32m    443\u001b[0m             \u001b[1;31m# To ensure that array flags are maintained\u001b[0m\u001b[1;33m\u001b[0m\u001b[1;33m\u001b[0m\u001b[0m\n",
      "\u001b[1;31mValueError\u001b[0m: Expected 2D array, got 1D array instead:\narray=[ 1.54709416 -1.19327504 -2.82094609  1.72929148 -0.68773642  0.62541423\n -1.74910323 -1.25218649  0.71722638 -2.00174463  0.02208488  1.6447192\n -1.01602831 -2.89483485  1.77412165  2.66742631 -2.30395471 -2.95134464\n  0.73000092 -1.584547    0.14632918  2.75273629  0.15105575 -1.51011469\n -0.40241489  0.84189192 -0.58606349  0.44770052 -0.40664349 -0.6842092\n  0.31850809 -2.23862664 -2.51233708 -2.7935676  -2.2992828   1.94499926\n  1.98679436 -0.96064397 -0.44335733  1.46893555 -0.06858961 -0.04664944\n -0.63249162  1.32616701 -1.89693439  0.05355412  1.22977602 -1.48294856\n -0.21471119 -1.12980158  1.30702864 -1.55216758  0.30026651  1.24460909\n  1.25846915  1.71641123 -0.19229459  1.98511343  2.61304969  0.09151082\n  1.36000945  2.05140574 -0.72970144  1.83840618  1.68451939  2.54838514\n  2.48266979  1.68487725  0.5933551   1.51996745  0.5894309  -2.16773216\n -1.24021203  0.74557323  0.8973139  -0.69301067 -2.71589954 -0.86822158\n -0.86191337  0.30145045 -2.48641802  1.31014242 -2.48444607 -1.85914092\n  2.225073   -0.28624794 -1.50258871  2.15209673  2.20397894 -1.49877715\n -0.271866    2.7472239  -1.74356464 -2.29729951  2.76265723  2.4641526\n  0.17610963 -2.01016324  1.08240267  2.83485637].\nReshape your data either using array.reshape(-1, 1) if your data has a single feature or array.reshape(1, -1) if it contains a single sample."
     ]
    }
   ],
   "source": [
    "y_predict = lin_reg.predict(x)  #  必须传入矩阵"
   ]
  },
  {
   "cell_type": "code",
   "execution_count": 11,
   "metadata": {},
   "outputs": [],
   "source": [
    "y_predict = lin_reg.predict(X) "
   ]
  },
  {
   "cell_type": "code",
   "execution_count": 12,
   "metadata": {},
   "outputs": [
    {
     "data": {
      "text/plain": [
       "[<matplotlib.lines.Line2D at 0x1c44e0e56d8>]"
      ]
     },
     "execution_count": 12,
     "metadata": {},
     "output_type": "execute_result"
    },
    {
     "data": {
      "image/png": "[encoded data removed]",
      "text/plain": [
       "<Figure size 432x288 with 1 Axes>"
      ]
     },
     "metadata": {},
     "output_type": "display_data"
    }
   ],
   "source": [
    "plt.scatter(x,y)\n",
    "plt.plot(x,y_predict,color = \"r\")"
   ]
  },
  {
   "cell_type": "markdown",
   "metadata": {},
   "source": [
    "### 解决方案：添加一个特征"
   ]
  },
  {
   "cell_type": "code",
   "execution_count": 13,
   "metadata": {},
   "outputs": [
    {
     "data": {
      "text/plain": [
       "(100, 1)"
      ]
     },
     "execution_count": 13,
     "metadata": {},
     "output_type": "execute_result"
    }
   ],
   "source": [
    "(X**2).shape "
   ]
  },
  {
   "cell_type": "code",
   "execution_count": 16,
   "metadata": {},
   "outputs": [
    {
     "data": {
      "text/plain": [
       "array([[ 1.54709416e+00,  2.39350033e+00],\n",
       "       [-1.19327504e+00,  1.42390531e+00],\n",
       "       [-2.82094609e+00,  7.95773685e+00],\n",
       "       [ 1.72929148e+00,  2.99044902e+00],\n",
       "       [-6.87736420e-01,  4.72981384e-01],\n",
       "       [ 6.25414232e-01,  3.91142961e-01],\n",
       "       [-1.74910323e+00,  3.05936213e+00],\n",
       "       [-1.25218649e+00,  1.56797100e+00],\n",
       "       [ 7.17226385e-01,  5.14413687e-01],\n",
       "       [-2.00174463e+00,  4.00698155e+00],\n",
       "       [ 2.20848785e-02,  4.87741859e-04],\n",
       "       [ 1.64471920e+00,  2.70510123e+00],\n",
       "       [-1.01602831e+00,  1.03231352e+00],\n",
       "       [-2.89483485e+00,  8.38006882e+00],\n",
       "       [ 1.77412165e+00,  3.14750762e+00],\n",
       "       [ 2.66742631e+00,  7.11516309e+00],\n",
       "       [-2.30395471e+00,  5.30820732e+00],\n",
       "       [-2.95134464e+00,  8.71043519e+00],\n",
       "       [ 7.30000925e-01,  5.32901350e-01],\n",
       "       [-1.58454700e+00,  2.51078919e+00],\n",
       "       [ 1.46329185e-01,  2.14122304e-02],\n",
       "       [ 2.75273629e+00,  7.57755708e+00],\n",
       "       [ 1.51055748e-01,  2.28178389e-02],\n",
       "       [-1.51011469e+00,  2.28044638e+00],\n",
       "       [-4.02414887e-01,  1.61937741e-01],\n",
       "       [ 8.41891920e-01,  7.08782005e-01],\n",
       "       [-5.86063486e-01,  3.43470409e-01],\n",
       "       [ 4.47700518e-01,  2.00435754e-01],\n",
       "       [-4.06643494e-01,  1.65358931e-01],\n",
       "       [-6.84209203e-01,  4.68142233e-01],\n",
       "       [ 3.18508093e-01,  1.01447405e-01],\n",
       "       [-2.23862664e+00,  5.01144921e+00],\n",
       "       [-2.51233708e+00,  6.31183759e+00],\n",
       "       [-2.79356760e+00,  7.80401994e+00],\n",
       "       [-2.29928280e+00,  5.28670138e+00],\n",
       "       [ 1.94499926e+00,  3.78302212e+00],\n",
       "       [ 1.98679436e+00,  3.94735183e+00],\n",
       "       [-9.60643965e-01,  9.22836828e-01],\n",
       "       [-4.43357332e-01,  1.96565724e-01],\n",
       "       [ 1.46893555e+00,  2.15777166e+00],\n",
       "       [-6.85896068e-02,  4.70453417e-03],\n",
       "       [-4.66494368e-02,  2.17616995e-03],\n",
       "       [-6.32491616e-01,  4.00045644e-01],\n",
       "       [ 1.32616701e+00,  1.75871895e+00],\n",
       "       [-1.89693439e+00,  3.59836009e+00],\n",
       "       [ 5.35541225e-02,  2.86804403e-03],\n",
       "       [ 1.22977602e+00,  1.51234905e+00],\n",
       "       [-1.48294856e+00,  2.19913643e+00],\n",
       "       [-2.14711194e-01,  4.61008968e-02],\n",
       "       [-1.12980158e+00,  1.27645161e+00],\n",
       "       [ 1.30702864e+00,  1.70832386e+00],\n",
       "       [-1.55216758e+00,  2.40922421e+00],\n",
       "       [ 3.00266513e-01,  9.01599790e-02],\n",
       "       [ 1.24460909e+00,  1.54905178e+00],\n",
       "       [ 1.25846915e+00,  1.58374461e+00],\n",
       "       [ 1.71641123e+00,  2.94606750e+00],\n",
       "       [-1.92294592e-01,  3.69772100e-02],\n",
       "       [ 1.98511343e+00,  3.94067533e+00],\n",
       "       [ 2.61304969e+00,  6.82802870e+00],\n",
       "       [ 9.15108208e-02,  8.37423032e-03],\n",
       "       [ 1.36000945e+00,  1.84962569e+00],\n",
       "       [ 2.05140574e+00,  4.20826549e+00],\n",
       "       [-7.29701436e-01,  5.32464186e-01],\n",
       "       [ 1.83840618e+00,  3.37973730e+00],\n",
       "       [ 1.68451939e+00,  2.83760559e+00],\n",
       "       [ 2.54838514e+00,  6.49426682e+00],\n",
       "       [ 2.48266979e+00,  6.16364927e+00],\n",
       "       [ 1.68487725e+00,  2.83881136e+00],\n",
       "       [ 5.93355104e-01,  3.52070280e-01],\n",
       "       [ 1.51996745e+00,  2.31030105e+00],\n",
       "       [ 5.89430896e-01,  3.47428781e-01],\n",
       "       [-2.16773216e+00,  4.69906272e+00],\n",
       "       [-1.24021203e+00,  1.53812588e+00],\n",
       "       [ 7.45573235e-01,  5.55879448e-01],\n",
       "       [ 8.97313901e-01,  8.05172237e-01],\n",
       "       [-6.93010670e-01,  4.80263789e-01],\n",
       "       [-2.71589954e+00,  7.37611033e+00],\n",
       "       [-8.68221583e-01,  7.53808717e-01],\n",
       "       [-8.61913371e-01,  7.42894658e-01],\n",
       "       [ 3.01450454e-01,  9.08723760e-02],\n",
       "       [-2.48641802e+00,  6.18227457e+00],\n",
       "       [ 1.31014242e+00,  1.71647315e+00],\n",
       "       [-2.48444607e+00,  6.17247229e+00],\n",
       "       [-1.85914092e+00,  3.45640496e+00],\n",
       "       [ 2.22507300e+00,  4.95094986e+00],\n",
       "       [-2.86247937e-01,  8.19378812e-02],\n",
       "       [-1.50258871e+00,  2.25777284e+00],\n",
       "       [ 2.15209673e+00,  4.63152032e+00],\n",
       "       [ 2.20397894e+00,  4.85752317e+00],\n",
       "       [-1.49877715e+00,  2.24633294e+00],\n",
       "       [-2.71866004e-01,  7.39111243e-02],\n",
       "       [ 2.74722390e+00,  7.54723913e+00],\n",
       "       [-1.74356464e+00,  3.04001765e+00],\n",
       "       [-2.29729951e+00,  5.27758502e+00],\n",
       "       [ 2.76265723e+00,  7.63227499e+00],\n",
       "       [ 2.46415260e+00,  6.07204801e+00],\n",
       "       [ 1.76109632e-01,  3.10146023e-02],\n",
       "       [-2.01016324e+00,  4.04075626e+00],\n",
       "       [ 1.08240267e+00,  1.17159555e+00],\n",
       "       [ 2.83485637e+00,  8.03641063e+00]])"
      ]
     },
     "execution_count": 16,
     "metadata": {},
     "output_type": "execute_result"
    }
   ],
   "source": [
    "X2 = np.hstack([X,X**2])\n",
    "X2"
   ]
  },
  {
   "cell_type": "code",
   "execution_count": 15,
   "metadata": {},
   "outputs": [
    {
     "data": {
      "text/plain": [
       "(100, 2)"
      ]
     },
     "execution_count": 15,
     "metadata": {},
     "output_type": "execute_result"
    }
   ],
   "source": [
    "X2.shape"
   ]
  },
  {
   "cell_type": "code",
   "execution_count": 18,
   "metadata": {},
   "outputs": [],
   "source": [
    "lin_reg2 = LinearRegression()\n",
    "lin_reg2.fit(X2,y)\n",
    "y_predict2 = lin_reg2.predict(X2)  #特征1 是x 特征2 是x**2"
   ]
  },
  {
   "cell_type": "code",
   "execution_count": 19,
   "metadata": {},
   "outputs": [
    {
     "data": {
      "text/plain": [
       "[<matplotlib.lines.Line2D at 0x1c44e1fd9b0>]"
      ]
     },
     "execution_count": 19,
     "metadata": {},
     "output_type": "execute_result"
    },
    {
     "data": {
      "image/png": "[encoded data removed]",
      "text/plain": [
       "<Figure size 432x288 with 1 Axes>"
      ]
     },
     "metadata": {},
     "output_type": "display_data"
    }
   ],
   "source": [
    "plt.scatter(x,y)\n",
    "plt.plot(x,y_predict2,color= \"r\")  # x 是乱序的"
   ]
  },
  {
   "cell_type": "code",
   "execution_count": 20,
   "metadata": {},
   "outputs": [
    {
     "data": {
      "text/plain": [
       "[<matplotlib.lines.Line2D at 0x1c44e1a64e0>]"
      ]
     },
     "execution_count": 20,
     "metadata": {},
     "output_type": "execute_result"
    },
    {
     "data": {
      "image/png": "[encoded data removed]",
      "text/plain": [
       "<Figure size 432x288 with 1 Axes>"
      ]
     },
     "metadata": {},
     "output_type": "display_data"
    }
   ],
   "source": [
    "plt.scatter(x,y)\n",
    "plt.plot(np.sort(x),y_predict2[np.argsort(x)],color= \"r\")  "
   ]
  },
  {
   "cell_type": "code",
   "execution_count": 21,
   "metadata": {},
   "outputs": [
    {
     "data": {
      "text/plain": [
       "array([0.97379363, 0.55618313])"
      ]
     },
     "execution_count": 21,
     "metadata": {},
     "output_type": "execute_result"
    }
   ],
   "source": [
    "lin_reg2.coef_  # "
   ]
  },
  {
   "cell_type": "code",
   "execution_count": 23,
   "metadata": {},
   "outputs": [
    {
     "data": {
      "text/plain": [
       "1.9693390586372461"
      ]
     },
     "execution_count": 23,
     "metadata": {},
     "output_type": "execute_result"
    }
   ],
   "source": [
    "lin_reg2.intercept_"
   ]
  },
  {
   "cell_type": "code",
   "execution_count": null,
   "metadata": {},
   "outputs": [],
   "source": []
  },
  {
   "cell_type": "code",
   "execution_count": 28,
   "metadata": {},
   "outputs": [
    {
     "data": {
      "text/plain": [
       "array([[6, 5, 4],\n",
       "       [3, 4, 2]])"
      ]
     },
     "execution_count": 28,
     "metadata": {},
     "output_type": "execute_result"
    }
   ],
   "source": [
    "# test\n",
    "a = np.array([[6,5,4],[3,4,2]])\n",
    "a"
   ]
  },
  {
   "cell_type": "code",
   "execution_count": 30,
   "metadata": {},
   "outputs": [
    {
     "data": {
      "text/plain": [
       "array([[2, 1, 0],\n",
       "       [2, 0, 1]], dtype=int64)"
      ]
     },
     "execution_count": 30,
     "metadata": {},
     "output_type": "execute_result"
    }
   ],
   "source": [
    "np.argsort(a)"
   ]
  },
  {
   "cell_type": "code",
   "execution_count": 31,
   "metadata": {},
   "outputs": [
    {
     "data": {
      "text/plain": [
       "array([[6, 5, 4],\n",
       "       [3, 4, 2]])"
      ]
     },
     "execution_count": 31,
     "metadata": {},
     "output_type": "execute_result"
    }
   ],
   "source": [
    "a"
   ]
  },
  {
   "cell_type": "code",
   "execution_count": 33,
   "metadata": {},
   "outputs": [
    {
     "data": {
      "text/plain": [
       "array([[2, 1, 0],\n",
       "       [2, 0, 1]], dtype=int64)"
      ]
     },
     "execution_count": 33,
     "metadata": {},
     "output_type": "execute_result"
    }
   ],
   "source": [
    "np.argsort(a,axis = 1)  # 按行"
   ]
  },
  {
   "cell_type": "code",
   "execution_count": 34,
   "metadata": {},
   "outputs": [
    {
     "data": {
      "text/plain": [
       "array([[1, 1, 1],\n",
       "       [0, 0, 0]], dtype=int64)"
      ]
     },
     "execution_count": 34,
     "metadata": {},
     "output_type": "execute_result"
    }
   ],
   "source": [
    "np.argsort(a,axis = 0) # 按列"
   ]
  },
  {
   "cell_type": "code",
   "execution_count": null,
   "metadata": {},
   "outputs": [],
   "source": []
  }
 ],
 "metadata": {
  "kernelspec": {
   "display_name": "Python 3",
   "language": "python",
   "name": "python3"
  },
  "language_info": {
   "codemirror_mode": {
    "name": "ipython",
    "version": 3
   },
   "file_extension": ".py",
   "mimetype": "text/x-python",
   "name": "python",
   "nbconvert_exporter": "python",
   "pygments_lexer": "ipython3",
   "version": "3.6.5"
  }
 },
 "nbformat": 4,
 "nbformat_minor": 2
}
